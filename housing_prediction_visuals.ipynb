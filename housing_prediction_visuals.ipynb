{
 "cells": [
  {
   "cell_type": "code",
   "execution_count": 10,
   "metadata": {},
   "outputs": [],
   "source": [
    "import numpy as np\n",
    "import pandas as pd\n",
    "import matplotlib.pyplot as plt\n",
    "%matplotlib inline\n",
    "import seaborn as sns"
   ]
  },
  {
   "cell_type": "code",
   "execution_count": 11,
   "metadata": {},
   "outputs": [
    {
     "data": {
      "text/html": [
       "<div>\n",
       "<style scoped>\n",
       "    .dataframe tbody tr th:only-of-type {\n",
       "        vertical-align: middle;\n",
       "    }\n",
       "\n",
       "    .dataframe tbody tr th {\n",
       "        vertical-align: top;\n",
       "    }\n",
       "\n",
       "    .dataframe thead th {\n",
       "        text-align: right;\n",
       "    }\n",
       "</style>\n",
       "<table border=\"1\" class=\"dataframe\">\n",
       "  <thead>\n",
       "    <tr style=\"text-align: right;\">\n",
       "      <th></th>\n",
       "      <th>ROOMS</th>\n",
       "      <th>VALUE</th>\n",
       "      <th>HOUSE TYPE</th>\n",
       "    </tr>\n",
       "  </thead>\n",
       "  <tbody>\n",
       "    <tr>\n",
       "      <th>0</th>\n",
       "      <td>1</td>\n",
       "      <td>169950</td>\n",
       "      <td>F</td>\n",
       "    </tr>\n",
       "    <tr>\n",
       "      <th>1</th>\n",
       "      <td>1</td>\n",
       "      <td>125000</td>\n",
       "      <td>F</td>\n",
       "    </tr>\n",
       "    <tr>\n",
       "      <th>2</th>\n",
       "      <td>2</td>\n",
       "      <td>385000</td>\n",
       "      <td>TH</td>\n",
       "    </tr>\n",
       "    <tr>\n",
       "      <th>3</th>\n",
       "      <td>5</td>\n",
       "      <td>1500000</td>\n",
       "      <td>H</td>\n",
       "    </tr>\n",
       "    <tr>\n",
       "      <th>4</th>\n",
       "      <td>2</td>\n",
       "      <td>190000</td>\n",
       "      <td>TH</td>\n",
       "    </tr>\n",
       "    <tr>\n",
       "      <th>...</th>\n",
       "      <td>...</td>\n",
       "      <td>...</td>\n",
       "      <td>...</td>\n",
       "    </tr>\n",
       "    <tr>\n",
       "      <th>110</th>\n",
       "      <td>2</td>\n",
       "      <td>305000</td>\n",
       "      <td>F</td>\n",
       "    </tr>\n",
       "    <tr>\n",
       "      <th>111</th>\n",
       "      <td>3</td>\n",
       "      <td>145000</td>\n",
       "      <td>TH</td>\n",
       "    </tr>\n",
       "    <tr>\n",
       "      <th>112</th>\n",
       "      <td>4</td>\n",
       "      <td>475000</td>\n",
       "      <td>H</td>\n",
       "    </tr>\n",
       "    <tr>\n",
       "      <th>113</th>\n",
       "      <td>2</td>\n",
       "      <td>475000</td>\n",
       "      <td>TH</td>\n",
       "    </tr>\n",
       "    <tr>\n",
       "      <th>114</th>\n",
       "      <td>2</td>\n",
       "      <td>270000</td>\n",
       "      <td>TH</td>\n",
       "    </tr>\n",
       "  </tbody>\n",
       "</table>\n",
       "<p>115 rows × 3 columns</p>\n",
       "</div>"
      ],
      "text/plain": [
       "     ROOMS    VALUE HOUSE TYPE\n",
       "0        1   169950          F\n",
       "1        1   125000          F\n",
       "2        2   385000         TH\n",
       "3        5  1500000          H\n",
       "4        2   190000         TH\n",
       "..     ...      ...        ...\n",
       "110      2   305000          F\n",
       "111      3   145000         TH\n",
       "112      4   475000          H\n",
       "113      2   475000         TH\n",
       "114      2   270000         TH\n",
       "\n",
       "[115 rows x 3 columns]"
      ]
     },
     "execution_count": 11,
     "metadata": {},
     "output_type": "execute_result"
    }
   ],
   "source": [
    "kentData = pd.read_csv(\"https://raw.githubusercontent.com/OierGman/Housing-Prediction-Project/master/kentData.csv\")\n",
    "roomValAve = pd.read_csv(\"https://raw.githubusercontent.com/OierGman/Housing-Prediction-Project/master/ValuePerRoomAverage.csv\")\n",
    "kentData"
   ]
  },
  {
   "cell_type": "code",
   "execution_count": 12,
   "metadata": {},
   "outputs": [
    {
     "data": {
      "text/plain": [
       "<AxesSubplot:xlabel='HOUSE TYPE', ylabel='VALUE'>"
      ]
     },
     "execution_count": 12,
     "metadata": {},
     "output_type": "execute_result"
    },
    {
     "data": {
      "image/png": "[encoded data removed]",
      "text/plain": [
       "<Figure size 432x288 with 1 Axes>"
      ]
     },
     "metadata": {
      "needs_background": "light"
     },
     "output_type": "display_data"
    }
   ],
   "source": [
    "kentData.plot.scatter(y ='VALUE', x ='HOUSE TYPE')"
   ]
  },
  {
   "cell_type": "code",
   "execution_count": 13,
   "metadata": {},
   "outputs": [
    {
     "name": "stdout",
     "output_type": "stream",
     "text": [
      "<pandas.core.groupby.generic.DataFrameGroupBy object at 0x00000135B19C64F0>\n",
      "            ROOMS     VALUE\n",
      "HOUSE TYPE                 \n",
      "B             3.0  451111.0\n",
      "F             2.0  358749.0\n",
      "H             4.0  719066.0\n",
      "TH            3.0  355476.0\n",
      "            ROOMS  VALUE\n",
      "HOUSE TYPE              \n",
      "B               9      9\n",
      "F              34     34\n",
      "H              30     30\n",
      "TH             42     42\n"
     ]
    }
   ],
   "source": [
    "kentData_houseType = kentData.groupby(['HOUSE TYPE'])\n",
    "kentData_average = kentData_houseType.mean()\n",
    "kentData_count = kentData_houseType.count()\n",
    "print(kentData_houseType)\n",
    "kentData_average = round(kentData_average, 0)\n",
    "print(kentData_average)\n",
    "print(kentData_count)"
   ]
  },
  {
   "cell_type": "code",
   "execution_count": 5,
   "metadata": {},
   "outputs": [
    {
     "name": "stdout",
     "output_type": "stream",
     "text": [
      "<pandas.core.groupby.generic.DataFrameGroupBy object at 0x00000135B1047250>\n",
      "            VALUE\n",
      "ROOMS            \n",
      "1       227245.00\n",
      "2       376158.54\n",
      "3       440984.70\n",
      "4       554666.46\n",
      "5      1150000.00\n",
      "6       750000.00\n",
      "9      1100000.00\n",
      "       VALUE  HOUSE TYPE\n",
      "ROOMS                   \n",
      "1         10          10\n",
      "2         41          41\n",
      "3         33          33\n",
      "4         24          24\n",
      "5          4           4\n",
      "6          2           2\n",
      "9          1           1\n"
     ]
    }
   ],
   "source": [
    "kentData_rooms = kentData.groupby(['ROOMS'])\n",
    "kentData_averageR = kentData_rooms.mean()\n",
    "kentData_countR = kentData_rooms.count()\n",
    "print(kentData_rooms)\n",
    "kentData_averageR = round(kentData_averageR, 2)\n",
    "print(kentData_averageR)\n",
    "print(kentData_countR)"
   ]
  },
  {
   "cell_type": "code",
   "execution_count": 6,
   "metadata": {},
   "outputs": [
    {
     "data": {
      "text/plain": [
       "<seaborn.axisgrid.FacetGrid at 0x135b1047dc0>"
      ]
     },
     "execution_count": 6,
     "metadata": {},
     "output_type": "execute_result"
    },
    {
     "data": {
      "image/png": "[encoded data removed]",
      "text/plain": [
       "<Figure size 1440x360 with 4 Axes>"
      ]
     },
     "metadata": {
      "needs_background": "light"
     },
     "output_type": "display_data"
    }
   ],
   "source": [
    "filtered_class = kentData[kentData['HOUSE TYPE'] != 'U']\n",
    "sns.lmplot(x = \"ROOMS\", y = \"VALUE\", data=filtered_class, col='HOUSE TYPE', col_wrap=4)"
   ]
  },
  {
   "cell_type": "code",
   "execution_count": 9,
   "metadata": {},
   "outputs": [
    {
     "data": {
      "text/plain": [
       "<AxesSubplot:xlabel='ROOMS', ylabel='VALUE'>"
      ]
     },
     "execution_count": 9,
     "metadata": {},
     "output_type": "execute_result"
    },
    {
     "data": {
      "image/png": "[encoded data removed]",
      "text/plain": [
       "<Figure size 432x288 with 1 Axes>"
      ]
     },
     "metadata": {
      "needs_background": "light"
     },
     "output_type": "display_data"
    }
   ],
   "source": [
    "roomValAve.plot.scatter(y ='VALUE', x ='ROOMS')"
   ]
  },
  {
   "cell_type": "code",
   "execution_count": null,
   "metadata": {},
   "outputs": [],
   "source": []
  }
 ],
 "metadata": {
  "kernelspec": {
   "display_name": "Python 3",
   "language": "python",
   "name": "python3"
  },
  "language_info": {
   "codemirror_mode": {
    "name": "ipython",
    "version": 3
   },
   "file_extension": ".py",
   "mimetype": "text/x-python",
   "name": "python",
   "nbconvert_exporter": "python",
   "pygments_lexer": "ipython3",
   "version": "3.8.5"
  }
 },
 "nbformat": 4,
 "nbformat_minor": 4
}
